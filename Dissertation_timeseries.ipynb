{
  "nbformat": 4,
  "nbformat_minor": 0,
  "metadata": {
    "colab": {
      "name": "Dissertation_timeseries.ipynb",
      "provenance": [],
      "collapsed_sections": [
        "ZOUXM52lVvsZ"
      ],
      "include_colab_link": true
    },
    "kernelspec": {
      "name": "python3",
      "display_name": "Python 3"
    },
    "language_info": {
      "name": "python"
    },
    "accelerator": "GPU"
  },
  "cells": [
    {
      "cell_type": "markdown",
      "metadata": {
        "id": "view-in-github",
        "colab_type": "text"
      },
      "source": [
        "<a href=\"https://colab.research.google.com/github/JacobJS56/Dissertation/blob/main/Dissertation_timeseries.ipynb\" target=\"_parent\"><img src=\"https://colab.research.google.com/assets/colab-badge.svg\" alt=\"Open In Colab\"/></a>"
      ]
    },
    {
      "cell_type": "markdown",
      "source": [
        "**Detecting Anomalies in Microservices**"
      ],
      "metadata": {
        "id": "R4BjCI4yYd4g"
      }
    },
    {
      "cell_type": "markdown",
      "source": [
        "Import packages needed for the project"
      ],
      "metadata": {
        "id": "t93KISsaYia2"
      }
    },
    {
      "cell_type": "code",
      "source": [
        "import pandas as pd\n",
        "import numpy as np\n",
        "import matplotlib.pyplot as plt\n",
        "import seaborn as sns\n",
        "sns.set_style(\"whitegrid\")\n",
        "from sklearn import metrics\n",
        "import scipy.stats as stats\n",
        "import pylab\n",
        "from time import process_time"
      ],
      "metadata": {
        "id": "P5SPx6_ka-eX"
      },
      "execution_count": null,
      "outputs": []
    },
    {
      "cell_type": "markdown",
      "source": [
        "# Data Exploration on Dataset"
      ],
      "metadata": {
        "id": "5EJWv3TzYlS4"
      }
    },
    {
      "cell_type": "markdown",
      "source": [
        "## Explaning the Dataset"
      ],
      "metadata": {
        "id": "spmzrNJSL9R8"
      }
    },
    {
      "cell_type": "code",
      "execution_count": null,
      "metadata": {
        "id": "raTDIyawXrGA",
        "colab": {
          "base_uri": "https://localhost:8080/",
          "height": 206
        },
        "outputId": "2d05118d-e12e-4d34-d7fd-520778d8f89b"
      },
      "outputs": [
        {
          "output_type": "execute_result",
          "data": {
            "text/plain": [
              "        Microservices   CPU   mem  response  throughput         timestamp  \\\n",
              "0      bookshop-books  34.6  4297     6.485      22.000  07/07/2020 17:19   \n",
              "1  bookshop-purchases  36.0   585     8.686       9.367  07/07/2020 17:19   \n",
              "2         bookshop-ui  36.8   291     5.561       9.467  07/07/2020 17:19   \n",
              "3         bookshop-ui  36.2   291    13.550       9.267  07/07/2020 17:19   \n",
              "4      bookshop-books  36.2  4298     2.877      16.710  07/07/2020 17:20   \n",
              "\n",
              "    label  \n",
              "0  normal  \n",
              "1  normal  \n",
              "2  normal  \n",
              "3  normal  \n",
              "4  normal  "
            ],
            "text/html": [
              "\n",
              "  <div id=\"df-34f3a93a-212e-4450-8570-a05e80d03159\">\n",
              "    <div class=\"colab-df-container\">\n",
              "      <div>\n",
              "<style scoped>\n",
              "    .dataframe tbody tr th:only-of-type {\n",
              "        vertical-align: middle;\n",
              "    }\n",
              "\n",
              "    .dataframe tbody tr th {\n",
              "        vertical-align: top;\n",
              "    }\n",
              "\n",
              "    .dataframe thead th {\n",
              "        text-align: right;\n",
              "    }\n",
              "</style>\n",
              "<table border=\"1\" class=\"dataframe\">\n",
              "  <thead>\n",
              "    <tr style=\"text-align: right;\">\n",
              "      <th></th>\n",
              "      <th>Microservices</th>\n",
              "      <th>CPU</th>\n",
              "      <th>mem</th>\n",
              "      <th>response</th>\n",
              "      <th>throughput</th>\n",
              "      <th>timestamp</th>\n",
              "      <th>label</th>\n",
              "    </tr>\n",
              "  </thead>\n",
              "  <tbody>\n",
              "    <tr>\n",
              "      <th>0</th>\n",
              "      <td>bookshop-books</td>\n",
              "      <td>34.6</td>\n",
              "      <td>4297</td>\n",
              "      <td>6.485</td>\n",
              "      <td>22.000</td>\n",
              "      <td>07/07/2020 17:19</td>\n",
              "      <td>normal</td>\n",
              "    </tr>\n",
              "    <tr>\n",
              "      <th>1</th>\n",
              "      <td>bookshop-purchases</td>\n",
              "      <td>36.0</td>\n",
              "      <td>585</td>\n",
              "      <td>8.686</td>\n",
              "      <td>9.367</td>\n",
              "      <td>07/07/2020 17:19</td>\n",
              "      <td>normal</td>\n",
              "    </tr>\n",
              "    <tr>\n",
              "      <th>2</th>\n",
              "      <td>bookshop-ui</td>\n",
              "      <td>36.8</td>\n",
              "      <td>291</td>\n",
              "      <td>5.561</td>\n",
              "      <td>9.467</td>\n",
              "      <td>07/07/2020 17:19</td>\n",
              "      <td>normal</td>\n",
              "    </tr>\n",
              "    <tr>\n",
              "      <th>3</th>\n",
              "      <td>bookshop-ui</td>\n",
              "      <td>36.2</td>\n",
              "      <td>291</td>\n",
              "      <td>13.550</td>\n",
              "      <td>9.267</td>\n",
              "      <td>07/07/2020 17:19</td>\n",
              "      <td>normal</td>\n",
              "    </tr>\n",
              "    <tr>\n",
              "      <th>4</th>\n",
              "      <td>bookshop-books</td>\n",
              "      <td>36.2</td>\n",
              "      <td>4298</td>\n",
              "      <td>2.877</td>\n",
              "      <td>16.710</td>\n",
              "      <td>07/07/2020 17:20</td>\n",
              "      <td>normal</td>\n",
              "    </tr>\n",
              "  </tbody>\n",
              "</table>\n",
              "</div>\n",
              "      <button class=\"colab-df-convert\" onclick=\"convertToInteractive('df-34f3a93a-212e-4450-8570-a05e80d03159')\"\n",
              "              title=\"Convert this dataframe to an interactive table.\"\n",
              "              style=\"display:none;\">\n",
              "        \n",
              "  <svg xmlns=\"http://www.w3.org/2000/svg\" height=\"24px\"viewBox=\"0 0 24 24\"\n",
              "       width=\"24px\">\n",
              "    <path d=\"M0 0h24v24H0V0z\" fill=\"none\"/>\n",
              "    <path d=\"M18.56 5.44l.94 2.06.94-2.06 2.06-.94-2.06-.94-.94-2.06-.94 2.06-2.06.94zm-11 1L8.5 8.5l.94-2.06 2.06-.94-2.06-.94L8.5 2.5l-.94 2.06-2.06.94zm10 10l.94 2.06.94-2.06 2.06-.94-2.06-.94-.94-2.06-.94 2.06-2.06.94z\"/><path d=\"M17.41 7.96l-1.37-1.37c-.4-.4-.92-.59-1.43-.59-.52 0-1.04.2-1.43.59L10.3 9.45l-7.72 7.72c-.78.78-.78 2.05 0 2.83L4 21.41c.39.39.9.59 1.41.59.51 0 1.02-.2 1.41-.59l7.78-7.78 2.81-2.81c.8-.78.8-2.07 0-2.86zM5.41 20L4 18.59l7.72-7.72 1.47 1.35L5.41 20z\"/>\n",
              "  </svg>\n",
              "      </button>\n",
              "      \n",
              "  <style>\n",
              "    .colab-df-container {\n",
              "      display:flex;\n",
              "      flex-wrap:wrap;\n",
              "      gap: 12px;\n",
              "    }\n",
              "\n",
              "    .colab-df-convert {\n",
              "      background-color: #E8F0FE;\n",
              "      border: none;\n",
              "      border-radius: 50%;\n",
              "      cursor: pointer;\n",
              "      display: none;\n",
              "      fill: #1967D2;\n",
              "      height: 32px;\n",
              "      padding: 0 0 0 0;\n",
              "      width: 32px;\n",
              "    }\n",
              "\n",
              "    .colab-df-convert:hover {\n",
              "      background-color: #E2EBFA;\n",
              "      box-shadow: 0px 1px 2px rgba(60, 64, 67, 0.3), 0px 1px 3px 1px rgba(60, 64, 67, 0.15);\n",
              "      fill: #174EA6;\n",
              "    }\n",
              "\n",
              "    [theme=dark] .colab-df-convert {\n",
              "      background-color: #3B4455;\n",
              "      fill: #D2E3FC;\n",
              "    }\n",
              "\n",
              "    [theme=dark] .colab-df-convert:hover {\n",
              "      background-color: #434B5C;\n",
              "      box-shadow: 0px 1px 3px 1px rgba(0, 0, 0, 0.15);\n",
              "      filter: drop-shadow(0px 1px 2px rgba(0, 0, 0, 0.3));\n",
              "      fill: #FFFFFF;\n",
              "    }\n",
              "  </style>\n",
              "\n",
              "      <script>\n",
              "        const buttonEl =\n",
              "          document.querySelector('#df-34f3a93a-212e-4450-8570-a05e80d03159 button.colab-df-convert');\n",
              "        buttonEl.style.display =\n",
              "          google.colab.kernel.accessAllowed ? 'block' : 'none';\n",
              "\n",
              "        async function convertToInteractive(key) {\n",
              "          const element = document.querySelector('#df-34f3a93a-212e-4450-8570-a05e80d03159');\n",
              "          const dataTable =\n",
              "            await google.colab.kernel.invokeFunction('convertToInteractive',\n",
              "                                                     [key], {});\n",
              "          if (!dataTable) return;\n",
              "\n",
              "          const docLinkHtml = 'Like what you see? Visit the ' +\n",
              "            '<a target=\"_blank\" href=https://colab.research.google.com/notebooks/data_table.ipynb>data table notebook</a>'\n",
              "            + ' to learn more about interactive tables.';\n",
              "          element.innerHTML = '';\n",
              "          dataTable['output_type'] = 'display_data';\n",
              "          await google.colab.output.renderOutput(dataTable, element);\n",
              "          const docLink = document.createElement('div');\n",
              "          docLink.innerHTML = docLinkHtml;\n",
              "          element.appendChild(docLink);\n",
              "        }\n",
              "      </script>\n",
              "    </div>\n",
              "  </div>\n",
              "  "
            ]
          },
          "metadata": {},
          "execution_count": 2
        }
      ],
      "source": [
        "df = pd.read_csv(\"https://raw.githubusercontent.com/JacobJS56/Dissertation/main/Datasets/labelled_dataset.csv\")\n",
        "#np.random.shuffle(df.values)\n",
        "df.head()"
      ]
    },
    {
      "cell_type": "markdown",
      "source": [
        "**Dataset Overview**\n",
        "\n",
        "---\n",
        "\n",
        "\n",
        "\n",
        "**Microservices:** Microservice the data is being monitored from\n",
        "\n",
        "**CPU:** CPU usage\n",
        "\n",
        "**mem:** memory usage\n",
        "\n",
        "**response:** time it takes from when the system receives a request to generating a response\n",
        "\n",
        "**throughput:** the rate of data or messages transferred in a fixed time interval\n",
        "\n",
        "**timestamp:** time in which a metric was captured"
      ],
      "metadata": {
        "id": "-fTBDae0OMPj"
      }
    },
    {
      "cell_type": "markdown",
      "source": [
        "**Features by Variance**"
      ],
      "metadata": {
        "id": "DTO6_JRZ9Gyb"
      }
    },
    {
      "cell_type": "code",
      "source": [
        "# Response has the highest variance\n",
        "df.var()"
      ],
      "metadata": {
        "id": "xTYZ4R_n7JE_",
        "colab": {
          "base_uri": "https://localhost:8080/"
        },
        "outputId": "c78536e2-b1e7-4c1c-aa41-c589a334d49e"
      },
      "execution_count": null,
      "outputs": [
        {
          "output_type": "stream",
          "name": "stderr",
          "text": [
            "/usr/local/lib/python3.7/dist-packages/ipykernel_launcher.py:2: FutureWarning: Dropping of nuisance columns in DataFrame reductions (with 'numeric_only=None') is deprecated; in a future version this will raise TypeError.  Select only valid columns before calling the reduction.\n",
            "  \n"
          ]
        },
        {
          "output_type": "execute_result",
          "data": {
            "text/plain": [
              "CPU           4.554862e+02\n",
              "mem           3.330020e+06\n",
              "response      7.805978e+06\n",
              "throughput    4.520254e+03\n",
              "dtype: float64"
            ]
          },
          "metadata": {},
          "execution_count": 3
        }
      ]
    },
    {
      "cell_type": "markdown",
      "source": [
        "**Features by Correlation**"
      ],
      "metadata": {
        "id": "yNtO6J8b8_K5"
      }
    },
    {
      "cell_type": "code",
      "source": [
        "sns.pairplot(df, hue=\"Microservices\", diag_kind=\"hist\")"
      ],
      "metadata": {
        "id": "yruWC2vvxc4f"
      },
      "execution_count": null,
      "outputs": []
    },
    {
      "cell_type": "code",
      "source": [
        "# little correlation when looking at the system as a whole\n",
        "sns.heatmap(abs(df.corr()))"
      ],
      "metadata": {
        "id": "tJ_7Os4mObN1",
        "colab": {
          "base_uri": "https://localhost:8080/",
          "height": 287
        },
        "outputId": "19ddc7df-0cf7-45ae-d339-f18ead01ecbe"
      },
      "execution_count": null,
      "outputs": [
        {
          "output_type": "execute_result",
          "data": {
            "text/plain": [
              "<matplotlib.axes._subplots.AxesSubplot at 0x7f7969d11fd0>"
            ]
          },
          "metadata": {},
          "execution_count": 5
        },
        {
          "output_type": "display_data",
          "data": {
            "text/plain": [
              "<Figure size 432x288 with 2 Axes>"
            ],
            "image/png": "[encoded data removed]"
          },
          "metadata": {
            "needs_background": "light"
          }
        }
      ]
    },
    {
      "cell_type": "code",
      "source": [
        "# we can see each system has different datapoints and correlations\n",
        "sns.pairplot(df, hue=\"Microservices\", kind=\"reg\", x_vars=['throughput',], y_vars=['throughput'], height=4)"
      ],
      "metadata": {
        "id": "a9kel391OlVe",
        "colab": {
          "base_uri": "https://localhost:8080/",
          "height": 321
        },
        "outputId": "3b60f76f-951c-419f-e30f-b918852d3c7b"
      },
      "execution_count": null,
      "outputs": [
        {
          "output_type": "execute_result",
          "data": {
            "text/plain": [
              "<seaborn.axisgrid.PairGrid at 0x7f7969c65f50>"
            ]
          },
          "metadata": {},
          "execution_count": 6
        },
        {
          "output_type": "display_data",
          "data": {
            "text/plain": [
              "<Figure size 426.625x288 with 2 Axes>"
            ],
            "image/png": "[encoded data removed]"
          },
          "metadata": {
            "needs_background": "light"
          }
        }
      ]
    },
    {
      "cell_type": "markdown",
      "source": [
        "## Power Transformation"
      ],
      "metadata": {
        "id": "ZOUXM52lVvsZ"
      }
    },
    {
      "cell_type": "markdown",
      "source": [
        "Used to attempt to normalise a feature using Box-Cox below"
      ],
      "metadata": {
        "id": "9Dzz8mDoMNmh"
      }
    },
    {
      "cell_type": "markdown",
      "source": [
        "Response"
      ],
      "metadata": {
        "id": "Wr5tK2jFNH5f"
      }
    },
    {
      "cell_type": "code",
      "source": [
        "# positive skew\n",
        "plt.hist(df['response'], bins=8)"
      ],
      "metadata": {
        "id": "LAd6c1SHNJTc"
      },
      "execution_count": null,
      "outputs": []
    },
    {
      "cell_type": "code",
      "source": [
        "stats.probplot(df['response'],plot=pylab)"
      ],
      "metadata": {
        "id": "1-ZiuUlVNKnS"
      },
      "execution_count": null,
      "outputs": []
    },
    {
      "cell_type": "code",
      "source": [
        "df['response'], parameters = stats.boxcox(df['response'])\n",
        "plt.hist(df['response'], bins=25)"
      ],
      "metadata": {
        "id": "dXFq4VjvNLZc"
      },
      "execution_count": null,
      "outputs": []
    },
    {
      "cell_type": "code",
      "source": [
        "stats.probplot(df['response'],plot=pylab)"
      ],
      "metadata": {
        "id": "iWnU6049NMuo"
      },
      "execution_count": null,
      "outputs": []
    },
    {
      "cell_type": "markdown",
      "source": [
        "Throughput"
      ],
      "metadata": {
        "id": "mdsFn9BpMduF"
      }
    },
    {
      "cell_type": "code",
      "source": [
        "# positive skew\n",
        "plt.hist(df['throughput'], bins=8)"
      ],
      "metadata": {
        "id": "dKIDflviMc0l"
      },
      "execution_count": null,
      "outputs": []
    },
    {
      "cell_type": "code",
      "source": [
        "stats.probplot(df['throughput'],plot=pylab);"
      ],
      "metadata": {
        "id": "A71l9a9_Mfz4"
      },
      "execution_count": null,
      "outputs": []
    },
    {
      "cell_type": "code",
      "source": [
        "df['throughput'], parameters = stats.boxcox(df['throughput'])\n",
        "plt.hist(df['throughput'], bins=25)"
      ],
      "metadata": {
        "id": "6KaXJ6ijMgsy"
      },
      "execution_count": null,
      "outputs": []
    },
    {
      "cell_type": "code",
      "source": [
        "stats.probplot(df['throughput'],plot=pylab);"
      ],
      "metadata": {
        "id": "-taACo4NMh3S"
      },
      "execution_count": null,
      "outputs": []
    },
    {
      "cell_type": "markdown",
      "source": [
        "CPU"
      ],
      "metadata": {
        "id": "LdDR5BMiMjGS"
      }
    },
    {
      "cell_type": "code",
      "source": [
        "# positive skew\n",
        "plt.hist(df['CPU'], bins=15)"
      ],
      "metadata": {
        "id": "eAtvDo8NMkJE"
      },
      "execution_count": null,
      "outputs": []
    },
    {
      "cell_type": "code",
      "source": [
        "stats.probplot(df['CPU'],plot=pylab)"
      ],
      "metadata": {
        "id": "0kd9MwNKMkm3"
      },
      "execution_count": null,
      "outputs": []
    },
    {
      "cell_type": "code",
      "source": [
        "#df['CPU'], parameters = stats.boxcox(df['CPU'])\n",
        "d = np.cbrt(df['CPU'])\n",
        "plt.hist(d, bins=50)"
      ],
      "metadata": {
        "id": "uw6mAi4eMnGP"
      },
      "execution_count": null,
      "outputs": []
    },
    {
      "cell_type": "code",
      "source": [
        "stats.probplot(d,plot=pylab)"
      ],
      "metadata": {
        "id": "xlv4I5-1MpJ9"
      },
      "execution_count": null,
      "outputs": []
    },
    {
      "cell_type": "markdown",
      "source": [
        "Memory"
      ],
      "metadata": {
        "id": "VYK4aGkwMvrq"
      }
    },
    {
      "cell_type": "code",
      "source": [
        "# positive skew\n",
        "plt.hist(df['mem'], bins=8)"
      ],
      "metadata": {
        "id": "d4vijssRMu9r"
      },
      "execution_count": null,
      "outputs": []
    },
    {
      "cell_type": "code",
      "source": [
        "stats.probplot(df['mem'],plot=pylab)"
      ],
      "metadata": {
        "id": "gkVsm_EgM1WM"
      },
      "execution_count": null,
      "outputs": []
    },
    {
      "cell_type": "code",
      "source": [
        "d, parameters = stats.boxcox(df['mem'])\n",
        "plt.hist(d, bins=50)"
      ],
      "metadata": {
        "id": "Z3oiQmJMM2tZ"
      },
      "execution_count": null,
      "outputs": []
    },
    {
      "cell_type": "code",
      "source": [
        "stats.probplot(d,plot=pylab);"
      ],
      "metadata": {
        "id": "CwERQIWINQnx"
      },
      "execution_count": null,
      "outputs": []
    },
    {
      "cell_type": "markdown",
      "source": [
        "Indidvual Services"
      ],
      "metadata": {
        "id": "Cvohb_mhc9Md"
      }
    },
    {
      "cell_type": "code",
      "source": [
        "# isolating books\n",
        "dfBooks = df[df.Microservices.isin(['bookshop-books'])]\n",
        "\n",
        "# Memory and Throughput has the highest variance\n",
        "dfBooks.var()"
      ],
      "metadata": {
        "id": "JJg8QGP0eqjD",
        "colab": {
          "base_uri": "https://localhost:8080/"
        },
        "outputId": "f90353bf-6d42-4d72-8806-313b1f5f335f"
      },
      "execution_count": null,
      "outputs": [
        {
          "output_type": "stream",
          "name": "stderr",
          "text": [
            "/usr/local/lib/python3.7/dist-packages/ipykernel_launcher.py:5: FutureWarning: Dropping of nuisance columns in DataFrame reductions (with 'numeric_only=None') is deprecated; in a future version this will raise TypeError.  Select only valid columns before calling the reduction.\n",
            "  \"\"\"\n"
          ]
        },
        {
          "output_type": "execute_result",
          "data": {
            "text/plain": [
              "CPU                2.105316\n",
              "mem           813235.227090\n",
              "response           3.369277\n",
              "throughput         8.225300\n",
              "dtype: float64"
            ]
          },
          "metadata": {},
          "execution_count": 19
        }
      ]
    },
    {
      "cell_type": "code",
      "source": [
        "# more correlation mainly linked to throughput\n",
        "dfUI = df[df.Microservices.isin(['bookshop-ui'])]\n",
        "dfUI.var()"
      ],
      "metadata": {
        "id": "z-sXFVHLetuN",
        "colab": {
          "base_uri": "https://localhost:8080/"
        },
        "outputId": "d2027b48-0e2f-4c26-bd23-e49f88d550f9"
      },
      "execution_count": null,
      "outputs": [
        {
          "output_type": "stream",
          "name": "stderr",
          "text": [
            "/usr/local/lib/python3.7/dist-packages/ipykernel_launcher.py:3: FutureWarning: Dropping of nuisance columns in DataFrame reductions (with 'numeric_only=None') is deprecated; in a future version this will raise TypeError.  Select only valid columns before calling the reduction.\n",
            "  This is separate from the ipykernel package so we can avoid doing imports until\n"
          ]
        },
        {
          "output_type": "execute_result",
          "data": {
            "text/plain": [
              "CPU             2.141731\n",
              "mem           290.206220\n",
              "response        1.852334\n",
              "throughput      7.732951\n",
              "dtype: float64"
            ]
          },
          "metadata": {},
          "execution_count": 20
        }
      ]
    },
    {
      "cell_type": "code",
      "source": [
        "# more correlation mainly linked to throughput\n",
        "dfPurchases = df[df.Microservices.isin(['bookshop-purchases'])]\n",
        "dfPurchases.var()"
      ],
      "metadata": {
        "id": "GVy32TFze1ak",
        "colab": {
          "base_uri": "https://localhost:8080/"
        },
        "outputId": "4e730c44-8706-48e2-f857-e687795fee38"
      },
      "execution_count": null,
      "outputs": [
        {
          "output_type": "stream",
          "name": "stderr",
          "text": [
            "/usr/local/lib/python3.7/dist-packages/ipykernel_launcher.py:3: FutureWarning: Dropping of nuisance columns in DataFrame reductions (with 'numeric_only=None') is deprecated; in a future version this will raise TypeError.  Select only valid columns before calling the reduction.\n",
            "  This is separate from the ipykernel package so we can avoid doing imports until\n"
          ]
        },
        {
          "output_type": "execute_result",
          "data": {
            "text/plain": [
              "CPU           2.112592e+00\n",
              "mem           2.594638e+06\n",
              "response      4.586203e-01\n",
              "throughput    6.928732e+00\n",
              "dtype: float64"
            ]
          },
          "metadata": {},
          "execution_count": 21
        }
      ]
    },
    {
      "cell_type": "markdown",
      "source": [
        "Labels Distribution\n"
      ],
      "metadata": {
        "id": "obMJ289ycejE"
      }
    },
    {
      "cell_type": "code",
      "source": [
        "print(df['label'].value_counts())"
      ],
      "metadata": {
        "id": "G3Jv0E1OceHJ",
        "colab": {
          "base_uri": "https://localhost:8080/"
        },
        "outputId": "07f22b38-e37b-491a-8015-d1be8a615938"
      },
      "execution_count": null,
      "outputs": [
        {
          "output_type": "stream",
          "name": "stdout",
          "text": [
            "normal         1939\n",
            "ui_a            361\n",
            "books_a         350\n",
            "purchases_a      76\n",
            "Name: label, dtype: int64\n"
          ]
        }
      ]
    },
    {
      "cell_type": "markdown",
      "source": [
        "Can see purchases has a lot less"
      ],
      "metadata": {
        "id": "d8ewSqvLcnwu"
      }
    },
    {
      "cell_type": "markdown",
      "source": [
        "# Machine Learning Models"
      ],
      "metadata": {
        "id": "7xFNn1gFO4CF"
      }
    },
    {
      "cell_type": "markdown",
      "source": [
        "## Sklearn models"
      ],
      "metadata": {
        "id": "IjB3MDeHFlAL"
      }
    },
    {
      "cell_type": "markdown",
      "source": [
        "Replacing categorical data column with one hot encoding for training models"
      ],
      "metadata": {
        "id": "YWLzEPpjYu_t"
      }
    },
    {
      "cell_type": "code",
      "source": [
        "df = pd.get_dummies(df, columns=[\"Microservices\"])\n",
        "df.head(7)"
      ],
      "metadata": {
        "id": "EhBdsRvZcJsw",
        "colab": {
          "base_uri": "https://localhost:8080/",
          "height": 472
        },
        "outputId": "506ec5c3-85dd-4253-8675-c18aa6a0fbbd"
      },
      "execution_count": null,
      "outputs": [
        {
          "output_type": "execute_result",
          "data": {
            "text/plain": [
              "        CPU   mem  response  throughput         timestamp   label  \\\n",
              "0  6.597463  4297  1.587155    3.629971  07/07/2020 17:19  normal   \n",
              "1  6.721837   585  1.790397    2.511115  07/07/2020 17:19  normal   \n",
              "2  6.791438   291  1.475872    2.524444  07/07/2020 17:19  normal   \n",
              "3  6.739335   291  2.079848    2.497658  07/07/2020 17:19  normal   \n",
              "4  6.739335  4298  0.962222    3.258951  07/07/2020 17:20  normal   \n",
              "5  6.497320   585  2.088996    2.213447  07/07/2020 17:20  normal   \n",
              "6  6.506516   291  2.198636    2.173992  07/07/2020 17:20  normal   \n",
              "\n",
              "   Microservices_bookshop-books  Microservices_bookshop-purchases  \\\n",
              "0                             1                                 0   \n",
              "1                             0                                 1   \n",
              "2                             0                                 0   \n",
              "3                             0                                 0   \n",
              "4                             1                                 0   \n",
              "5                             0                                 1   \n",
              "6                             0                                 0   \n",
              "\n",
              "   Microservices_bookshop-ui  \n",
              "0                          0  \n",
              "1                          0  \n",
              "2                          1  \n",
              "3                          1  \n",
              "4                          0  \n",
              "5                          0  \n",
              "6                          1  "
            ],
            "text/html": [
              "\n",
              "  <div id=\"df-ec219565-7ec8-49cf-811e-32cfb831586e\">\n",
              "    <div class=\"colab-df-container\">\n",
              "      <div>\n",
              "<style scoped>\n",
              "    .dataframe tbody tr th:only-of-type {\n",
              "        vertical-align: middle;\n",
              "    }\n",
              "\n",
              "    .dataframe tbody tr th {\n",
              "        vertical-align: top;\n",
              "    }\n",
              "\n",
              "    .dataframe thead th {\n",
              "        text-align: right;\n",
              "    }\n",
              "</style>\n",
              "<table border=\"1\" class=\"dataframe\">\n",
              "  <thead>\n",
              "    <tr style=\"text-align: right;\">\n",
              "      <th></th>\n",
              "      <th>CPU</th>\n",
              "      <th>mem</th>\n",
              "      <th>response</th>\n",
              "      <th>throughput</th>\n",
              "      <th>timestamp</th>\n",
              "      <th>label</th>\n",
              "      <th>Microservices_bookshop-books</th>\n",
              "      <th>Microservices_bookshop-purchases</th>\n",
              "      <th>Microservices_bookshop-ui</th>\n",
              "    </tr>\n",
              "  </thead>\n",
              "  <tbody>\n",
              "    <tr>\n",
              "      <th>0</th>\n",
              "      <td>6.597463</td>\n",
              "      <td>4297</td>\n",
              "      <td>1.587155</td>\n",
              "      <td>3.629971</td>\n",
              "      <td>07/07/2020 17:19</td>\n",
              "      <td>normal</td>\n",
              "      <td>1</td>\n",
              "      <td>0</td>\n",
              "      <td>0</td>\n",
              "    </tr>\n",
              "    <tr>\n",
              "      <th>1</th>\n",
              "      <td>6.721837</td>\n",
              "      <td>585</td>\n",
              "      <td>1.790397</td>\n",
              "      <td>2.511115</td>\n",
              "      <td>07/07/2020 17:19</td>\n",
              "      <td>normal</td>\n",
              "      <td>0</td>\n",
              "      <td>1</td>\n",
              "      <td>0</td>\n",
              "    </tr>\n",
              "    <tr>\n",
              "      <th>2</th>\n",
              "      <td>6.791438</td>\n",
              "      <td>291</td>\n",
              "      <td>1.475872</td>\n",
              "      <td>2.524444</td>\n",
              "      <td>07/07/2020 17:19</td>\n",
              "      <td>normal</td>\n",
              "      <td>0</td>\n",
              "      <td>0</td>\n",
              "      <td>1</td>\n",
              "    </tr>\n",
              "    <tr>\n",
              "      <th>3</th>\n",
              "      <td>6.739335</td>\n",
              "      <td>291</td>\n",
              "      <td>2.079848</td>\n",
              "      <td>2.497658</td>\n",
              "      <td>07/07/2020 17:19</td>\n",
              "      <td>normal</td>\n",
              "      <td>0</td>\n",
              "      <td>0</td>\n",
              "      <td>1</td>\n",
              "    </tr>\n",
              "    <tr>\n",
              "      <th>4</th>\n",
              "      <td>6.739335</td>\n",
              "      <td>4298</td>\n",
              "      <td>0.962222</td>\n",
              "      <td>3.258951</td>\n",
              "      <td>07/07/2020 17:20</td>\n",
              "      <td>normal</td>\n",
              "      <td>1</td>\n",
              "      <td>0</td>\n",
              "      <td>0</td>\n",
              "    </tr>\n",
              "    <tr>\n",
              "      <th>5</th>\n",
              "      <td>6.497320</td>\n",
              "      <td>585</td>\n",
              "      <td>2.088996</td>\n",
              "      <td>2.213447</td>\n",
              "      <td>07/07/2020 17:20</td>\n",
              "      <td>normal</td>\n",
              "      <td>0</td>\n",
              "      <td>1</td>\n",
              "      <td>0</td>\n",
              "    </tr>\n",
              "    <tr>\n",
              "      <th>6</th>\n",
              "      <td>6.506516</td>\n",
              "      <td>291</td>\n",
              "      <td>2.198636</td>\n",
              "      <td>2.173992</td>\n",
              "      <td>07/07/2020 17:20</td>\n",
              "      <td>normal</td>\n",
              "      <td>0</td>\n",
              "      <td>0</td>\n",
              "      <td>1</td>\n",
              "    </tr>\n",
              "  </tbody>\n",
              "</table>\n",
              "</div>\n",
              "      <button class=\"colab-df-convert\" onclick=\"convertToInteractive('df-ec219565-7ec8-49cf-811e-32cfb831586e')\"\n",
              "              title=\"Convert this dataframe to an interactive table.\"\n",
              "              style=\"display:none;\">\n",
              "        \n",
              "  <svg xmlns=\"http://www.w3.org/2000/svg\" height=\"24px\"viewBox=\"0 0 24 24\"\n",
              "       width=\"24px\">\n",
              "    <path d=\"M0 0h24v24H0V0z\" fill=\"none\"/>\n",
              "    <path d=\"M18.56 5.44l.94 2.06.94-2.06 2.06-.94-2.06-.94-.94-2.06-.94 2.06-2.06.94zm-11 1L8.5 8.5l.94-2.06 2.06-.94-2.06-.94L8.5 2.5l-.94 2.06-2.06.94zm10 10l.94 2.06.94-2.06 2.06-.94-2.06-.94-.94-2.06-.94 2.06-2.06.94z\"/><path d=\"M17.41 7.96l-1.37-1.37c-.4-.4-.92-.59-1.43-.59-.52 0-1.04.2-1.43.59L10.3 9.45l-7.72 7.72c-.78.78-.78 2.05 0 2.83L4 21.41c.39.39.9.59 1.41.59.51 0 1.02-.2 1.41-.59l7.78-7.78 2.81-2.81c.8-.78.8-2.07 0-2.86zM5.41 20L4 18.59l7.72-7.72 1.47 1.35L5.41 20z\"/>\n",
              "  </svg>\n",
              "      </button>\n",
              "      \n",
              "  <style>\n",
              "    .colab-df-container {\n",
              "      display:flex;\n",
              "      flex-wrap:wrap;\n",
              "      gap: 12px;\n",
              "    }\n",
              "\n",
              "    .colab-df-convert {\n",
              "      background-color: #E8F0FE;\n",
              "      border: none;\n",
              "      border-radius: 50%;\n",
              "      cursor: pointer;\n",
              "      display: none;\n",
              "      fill: #1967D2;\n",
              "      height: 32px;\n",
              "      padding: 0 0 0 0;\n",
              "      width: 32px;\n",
              "    }\n",
              "\n",
              "    .colab-df-convert:hover {\n",
              "      background-color: #E2EBFA;\n",
              "      box-shadow: 0px 1px 2px rgba(60, 64, 67, 0.3), 0px 1px 3px 1px rgba(60, 64, 67, 0.15);\n",
              "      fill: #174EA6;\n",
              "    }\n",
              "\n",
              "    [theme=dark] .colab-df-convert {\n",
              "      background-color: #3B4455;\n",
              "      fill: #D2E3FC;\n",
              "    }\n",
              "\n",
              "    [theme=dark] .colab-df-convert:hover {\n",
              "      background-color: #434B5C;\n",
              "      box-shadow: 0px 1px 3px 1px rgba(0, 0, 0, 0.15);\n",
              "      filter: drop-shadow(0px 1px 2px rgba(0, 0, 0, 0.3));\n",
              "      fill: #FFFFFF;\n",
              "    }\n",
              "  </style>\n",
              "\n",
              "      <script>\n",
              "        const buttonEl =\n",
              "          document.querySelector('#df-ec219565-7ec8-49cf-811e-32cfb831586e button.colab-df-convert');\n",
              "        buttonEl.style.display =\n",
              "          google.colab.kernel.accessAllowed ? 'block' : 'none';\n",
              "\n",
              "        async function convertToInteractive(key) {\n",
              "          const element = document.querySelector('#df-ec219565-7ec8-49cf-811e-32cfb831586e');\n",
              "          const dataTable =\n",
              "            await google.colab.kernel.invokeFunction('convertToInteractive',\n",
              "                                                     [key], {});\n",
              "          if (!dataTable) return;\n",
              "\n",
              "          const docLinkHtml = 'Like what you see? Visit the ' +\n",
              "            '<a target=\"_blank\" href=https://colab.research.google.com/notebooks/data_table.ipynb>data table notebook</a>'\n",
              "            + ' to learn more about interactive tables.';\n",
              "          element.innerHTML = '';\n",
              "          dataTable['output_type'] = 'display_data';\n",
              "          await google.colab.output.renderOutput(dataTable, element);\n",
              "          const docLink = document.createElement('div');\n",
              "          docLink.innerHTML = docLinkHtml;\n",
              "          element.appendChild(docLink);\n",
              "        }\n",
              "      </script>\n",
              "    </div>\n",
              "  </div>\n",
              "  "
            ]
          },
          "metadata": {},
          "execution_count": 23
        }
      ]
    },
    {
      "cell_type": "code",
      "source": [
        "from sklearn.preprocessing import OrdinalEncoder\n",
        "\n",
        "oe = OrdinalEncoder()\n",
        "df['timestamp'] = oe.fit_transform(df['timestamp'].values.reshape(-1,1))\n",
        "df.head(7)"
      ],
      "metadata": {
        "id": "6MQchUX8NvkM",
        "colab": {
          "base_uri": "https://localhost:8080/",
          "height": 350
        },
        "outputId": "2bec9f8e-4fb7-451f-e9d3-29d86f4dcb7c"
      },
      "execution_count": null,
      "outputs": [
        {
          "output_type": "execute_result",
          "data": {
            "text/plain": [
              "        CPU   mem  response  throughput  timestamp   label  \\\n",
              "0  6.597463  4297  1.587155    3.629971        0.0  normal   \n",
              "1  6.721837   585  1.790397    2.511115        0.0  normal   \n",
              "2  6.791438   291  1.475872    2.524444        0.0  normal   \n",
              "3  6.739335   291  2.079848    2.497658        0.0  normal   \n",
              "4  6.739335  4298  0.962222    3.258951        1.0  normal   \n",
              "5  6.497320   585  2.088996    2.213447        1.0  normal   \n",
              "6  6.506516   291  2.198636    2.173992        1.0  normal   \n",
              "\n",
              "   Microservices_bookshop-books  Microservices_bookshop-purchases  \\\n",
              "0                             1                                 0   \n",
              "1                             0                                 1   \n",
              "2                             0                                 0   \n",
              "3                             0                                 0   \n",
              "4                             1                                 0   \n",
              "5                             0                                 1   \n",
              "6                             0                                 0   \n",
              "\n",
              "   Microservices_bookshop-ui  \n",
              "0                          0  \n",
              "1                          0  \n",
              "2                          1  \n",
              "3                          1  \n",
              "4                          0  \n",
              "5                          0  \n",
              "6                          1  "
            ],
            "text/html": [
              "\n",
              "  <div id=\"df-20df773e-a8b1-40ee-bc76-aa660eb800ae\">\n",
              "    <div class=\"colab-df-container\">\n",
              "      <div>\n",
              "<style scoped>\n",
              "    .dataframe tbody tr th:only-of-type {\n",
              "        vertical-align: middle;\n",
              "    }\n",
              "\n",
              "    .dataframe tbody tr th {\n",
              "        vertical-align: top;\n",
              "    }\n",
              "\n",
              "    .dataframe thead th {\n",
              "        text-align: right;\n",
              "    }\n",
              "</style>\n",
              "<table border=\"1\" class=\"dataframe\">\n",
              "  <thead>\n",
              "    <tr style=\"text-align: right;\">\n",
              "      <th></th>\n",
              "      <th>CPU</th>\n",
              "      <th>mem</th>\n",
              "      <th>response</th>\n",
              "      <th>throughput</th>\n",
              "      <th>timestamp</th>\n",
              "      <th>label</th>\n",
              "      <th>Microservices_bookshop-books</th>\n",
              "      <th>Microservices_bookshop-purchases</th>\n",
              "      <th>Microservices_bookshop-ui</th>\n",
              "    </tr>\n",
              "  </thead>\n",
              "  <tbody>\n",
              "    <tr>\n",
              "      <th>0</th>\n",
              "      <td>6.597463</td>\n",
              "      <td>4297</td>\n",
              "      <td>1.587155</td>\n",
              "      <td>3.629971</td>\n",
              "      <td>0.0</td>\n",
              "      <td>normal</td>\n",
              "      <td>1</td>\n",
              "      <td>0</td>\n",
              "      <td>0</td>\n",
              "    </tr>\n",
              "    <tr>\n",
              "      <th>1</th>\n",
              "      <td>6.721837</td>\n",
              "      <td>585</td>\n",
              "      <td>1.790397</td>\n",
              "      <td>2.511115</td>\n",
              "      <td>0.0</td>\n",
              "      <td>normal</td>\n",
              "      <td>0</td>\n",
              "      <td>1</td>\n",
              "      <td>0</td>\n",
              "    </tr>\n",
              "    <tr>\n",
              "      <th>2</th>\n",
              "      <td>6.791438</td>\n",
              "      <td>291</td>\n",
              "      <td>1.475872</td>\n",
              "      <td>2.524444</td>\n",
              "      <td>0.0</td>\n",
              "      <td>normal</td>\n",
              "      <td>0</td>\n",
              "      <td>0</td>\n",
              "      <td>1</td>\n",
              "    </tr>\n",
              "    <tr>\n",
              "      <th>3</th>\n",
              "      <td>6.739335</td>\n",
              "      <td>291</td>\n",
              "      <td>2.079848</td>\n",
              "      <td>2.497658</td>\n",
              "      <td>0.0</td>\n",
              "      <td>normal</td>\n",
              "      <td>0</td>\n",
              "      <td>0</td>\n",
              "      <td>1</td>\n",
              "    </tr>\n",
              "    <tr>\n",
              "      <th>4</th>\n",
              "      <td>6.739335</td>\n",
              "      <td>4298</td>\n",
              "      <td>0.962222</td>\n",
              "      <td>3.258951</td>\n",
              "      <td>1.0</td>\n",
              "      <td>normal</td>\n",
              "      <td>1</td>\n",
              "      <td>0</td>\n",
              "      <td>0</td>\n",
              "    </tr>\n",
              "    <tr>\n",
              "      <th>5</th>\n",
              "      <td>6.497320</td>\n",
              "      <td>585</td>\n",
              "      <td>2.088996</td>\n",
              "      <td>2.213447</td>\n",
              "      <td>1.0</td>\n",
              "      <td>normal</td>\n",
              "      <td>0</td>\n",
              "      <td>1</td>\n",
              "      <td>0</td>\n",
              "    </tr>\n",
              "    <tr>\n",
              "      <th>6</th>\n",
              "      <td>6.506516</td>\n",
              "      <td>291</td>\n",
              "      <td>2.198636</td>\n",
              "      <td>2.173992</td>\n",
              "      <td>1.0</td>\n",
              "      <td>normal</td>\n",
              "      <td>0</td>\n",
              "      <td>0</td>\n",
              "      <td>1</td>\n",
              "    </tr>\n",
              "  </tbody>\n",
              "</table>\n",
              "</div>\n",
              "      <button class=\"colab-df-convert\" onclick=\"convertToInteractive('df-20df773e-a8b1-40ee-bc76-aa660eb800ae')\"\n",
              "              title=\"Convert this dataframe to an interactive table.\"\n",
              "              style=\"display:none;\">\n",
              "        \n",
              "  <svg xmlns=\"http://www.w3.org/2000/svg\" height=\"24px\"viewBox=\"0 0 24 24\"\n",
              "       width=\"24px\">\n",
              "    <path d=\"M0 0h24v24H0V0z\" fill=\"none\"/>\n",
              "    <path d=\"M18.56 5.44l.94 2.06.94-2.06 2.06-.94-2.06-.94-.94-2.06-.94 2.06-2.06.94zm-11 1L8.5 8.5l.94-2.06 2.06-.94-2.06-.94L8.5 2.5l-.94 2.06-2.06.94zm10 10l.94 2.06.94-2.06 2.06-.94-2.06-.94-.94-2.06-.94 2.06-2.06.94z\"/><path d=\"M17.41 7.96l-1.37-1.37c-.4-.4-.92-.59-1.43-.59-.52 0-1.04.2-1.43.59L10.3 9.45l-7.72 7.72c-.78.78-.78 2.05 0 2.83L4 21.41c.39.39.9.59 1.41.59.51 0 1.02-.2 1.41-.59l7.78-7.78 2.81-2.81c.8-.78.8-2.07 0-2.86zM5.41 20L4 18.59l7.72-7.72 1.47 1.35L5.41 20z\"/>\n",
              "  </svg>\n",
              "      </button>\n",
              "      \n",
              "  <style>\n",
              "    .colab-df-container {\n",
              "      display:flex;\n",
              "      flex-wrap:wrap;\n",
              "      gap: 12px;\n",
              "    }\n",
              "\n",
              "    .colab-df-convert {\n",
              "      background-color: #E8F0FE;\n",
              "      border: none;\n",
              "      border-radius: 50%;\n",
              "      cursor: pointer;\n",
              "      display: none;\n",
              "      fill: #1967D2;\n",
              "      height: 32px;\n",
              "      padding: 0 0 0 0;\n",
              "      width: 32px;\n",
              "    }\n",
              "\n",
              "    .colab-df-convert:hover {\n",
              "      background-color: #E2EBFA;\n",
              "      box-shadow: 0px 1px 2px rgba(60, 64, 67, 0.3), 0px 1px 3px 1px rgba(60, 64, 67, 0.15);\n",
              "      fill: #174EA6;\n",
              "    }\n",
              "\n",
              "    [theme=dark] .colab-df-convert {\n",
              "      background-color: #3B4455;\n",
              "      fill: #D2E3FC;\n",
              "    }\n",
              "\n",
              "    [theme=dark] .colab-df-convert:hover {\n",
              "      background-color: #434B5C;\n",
              "      box-shadow: 0px 1px 3px 1px rgba(0, 0, 0, 0.15);\n",
              "      filter: drop-shadow(0px 1px 2px rgba(0, 0, 0, 0.3));\n",
              "      fill: #FFFFFF;\n",
              "    }\n",
              "  </style>\n",
              "\n",
              "      <script>\n",
              "        const buttonEl =\n",
              "          document.querySelector('#df-20df773e-a8b1-40ee-bc76-aa660eb800ae button.colab-df-convert');\n",
              "        buttonEl.style.display =\n",
              "          google.colab.kernel.accessAllowed ? 'block' : 'none';\n",
              "\n",
              "        async function convertToInteractive(key) {\n",
              "          const element = document.querySelector('#df-20df773e-a8b1-40ee-bc76-aa660eb800ae');\n",
              "          const dataTable =\n",
              "            await google.colab.kernel.invokeFunction('convertToInteractive',\n",
              "                                                     [key], {});\n",
              "          if (!dataTable) return;\n",
              "\n",
              "          const docLinkHtml = 'Like what you see? Visit the ' +\n",
              "            '<a target=\"_blank\" href=https://colab.research.google.com/notebooks/data_table.ipynb>data table notebook</a>'\n",
              "            + ' to learn more about interactive tables.';\n",
              "          element.innerHTML = '';\n",
              "          dataTable['output_type'] = 'display_data';\n",
              "          await google.colab.output.renderOutput(dataTable, element);\n",
              "          const docLink = document.createElement('div');\n",
              "          docLink.innerHTML = docLinkHtml;\n",
              "          element.appendChild(docLink);\n",
              "        }\n",
              "      </script>\n",
              "    </div>\n",
              "  </div>\n",
              "  "
            ]
          },
          "metadata": {},
          "execution_count": 24
        }
      ]
    },
    {
      "cell_type": "code",
      "source": [
        "from sklearn.model_selection import TimeSeriesSplit\n",
        "\n",
        "# X is features\n",
        "# y is labels\n",
        "X = df[['CPU',\t'mem', 'response',\t'throughput', 'timestamp', 'Microservices_bookshop-books', 'Microservices_bookshop-purchases', 'Microservices_bookshop-ui']]\n",
        "y = df['label']\n",
        "\n",
        "scoresDf = pd.DataFrame()\n",
        "\n",
        "# number of subsets\n",
        "k = 3\n",
        "\n",
        "tscv = TimeSeriesSplit(max_train_size=None, n_splits=2)"
      ],
      "metadata": {
        "id": "O4cCfongbfOE"
      },
      "execution_count": null,
      "outputs": []
    },
    {
      "cell_type": "markdown",
      "source": [
        "Evaluation Helper function"
      ],
      "metadata": {
        "id": "BytSYYLdN7qy"
      }
    },
    {
      "cell_type": "code",
      "source": [
        "def saveScore(scoresDf, model_name, accuracy_score, precision_score, recall_score, f1_score, t1):\n",
        "  scoresDf = scoresDf.append({\n",
        "    'model_name' : model_name,\n",
        "    'accuracy': accuracy_score,\n",
        "    'precision' : precision_score,\n",
        "    'recall' : recall_score,\n",
        "    'f1_score' : f1_score,\n",
        "    't1' : t1,\n",
        "  }, ignore_index=True)\n",
        "  return scoresDf"
      ],
      "metadata": {
        "id": "51flzCLyXPUR"
      },
      "execution_count": null,
      "outputs": []
    },
    {
      "cell_type": "markdown",
      "source": [
        "**Random Forest**\n"
      ],
      "metadata": {
        "id": "EBNasG0XXU7r"
      }
    },
    {
      "cell_type": "code",
      "source": [
        "from sklearn.ensemble import RandomForestClassifier\n",
        "\n",
        "# score arrays\n",
        "accuracy_score = []\n",
        "precision_score = []\n",
        "recall_score = []\n",
        "f1_score = []\n",
        "t1 = []\n",
        "\n",
        "for train_index, test_index in tscv.split(X):\n",
        "  X_train, X_test = X.iloc[train_index], X.iloc[test_index]\n",
        "  y_train, y_test = y.iloc[train_index], y.iloc[test_index]\n",
        "\n",
        "  # create classifier, fit data and predict on test data\n",
        "  t1_start = process_time()\n",
        "  rfc = RandomForestClassifier()\n",
        "  rfc.fit(X_train, y_train)\n",
        "  pred = rfc.predict(X_test)\n",
        "  t1_stop = process_time()\n",
        " \n",
        "  # metrics append to arrays\n",
        "  accuracy_score.append(metrics.accuracy_score(pred, y_test))\n",
        "  precision_score.append(metrics.precision_score(pred , y_test, average='macro'))\n",
        "  recall_score.append(metrics.recall_score(pred , y_test, average='macro'))\n",
        "  f1_score.append(metrics.f1_score(pred , y_test, average='macro'))\n",
        "  t1.append(t1_stop-t1_start)\n",
        "\n",
        "scoresDf = saveScore(scoresDf, \"RF\", sum(accuracy_score) / k,sum(precision_score) / k, sum(recall_score) / k, sum(f1_score) / k, sum(t1) / k)"
      ],
      "metadata": {
        "id": "sqWvyf6icAjC"
      },
      "execution_count": null,
      "outputs": []
    },
    {
      "cell_type": "markdown",
      "source": [
        "**Naive Bayes Gaussian**"
      ],
      "metadata": {
        "id": "ymbm6OjNXKwq"
      }
    },
    {
      "cell_type": "code",
      "source": [
        "from sklearn.naive_bayes import GaussianNB\n",
        "from sklearn.model_selection import GridSearchCV\n",
        "\n",
        "# score arrays\n",
        "accuracy_score = []\n",
        "precision_score = []\n",
        "recall_score = []\n",
        "f1_score = []\n",
        "t1 = []\n",
        "#params = {\n",
        "#    'var_smoothing': np.logspace(0, -9, num=75)\n",
        "#    }\n",
        "#gnv = GridSearchCV(estimator=GaussianNB(), param_grid=params, scoring='accuracy', n_jobs=-1, cv=10)\n",
        "\n",
        "for train_index, test_index in tscv.split(X):\n",
        "  X_train, X_test = X.iloc[train_index], X.iloc[test_index]\n",
        "  y_train, y_test = y.iloc[train_index], y.iloc[test_index]\n",
        "\n",
        "  # create classifier, fit data and predict on test data\n",
        "  t1_start = process_time()\n",
        "  gnv = GaussianNB(var_smoothing=0.0001)\n",
        "  gnv.fit(X_train, y_train) \n",
        "  pred = gnv.predict(X_test)\n",
        "  t1_stop = process_time()\n",
        "\n",
        "  # metrics append to arrays\n",
        "  accuracy_score.append(metrics.accuracy_score(pred, y_test))\n",
        "  precision_score.append(metrics.precision_score(pred , y_test, average='macro'))\n",
        "  recall_score.append( metrics.recall_score(pred , y_test, average='macro'))\n",
        "  f1_score.append(metrics.f1_score(pred , y_test, average='macro'))\n",
        "  t1.append(t1_stop-t1_start)\n",
        "\n",
        "scoresDf = saveScore(scoresDf, \"NB-G\", sum(accuracy_score) / k, sum(precision_score) / k, sum(recall_score) / k, sum(f1_score) / k, sum(t1) / k)"
      ],
      "metadata": {
        "id": "hEq0ESC8XMC5",
        "colab": {
          "base_uri": "https://localhost:8080/"
        },
        "outputId": "6f20df44-ba78-4f10-f5c8-130814e18b69"
      },
      "execution_count": null,
      "outputs": [
        {
          "output_type": "stream",
          "name": "stderr",
          "text": [
            "/usr/local/lib/python3.7/dist-packages/sklearn/metrics/_classification.py:1318: UndefinedMetricWarning: Recall is ill-defined and being set to 0.0 in labels with no true samples. Use `zero_division` parameter to control this behavior.\n",
            "  _warn_prf(average, modifier, msg_start, len(result))\n",
            "/usr/local/lib/python3.7/dist-packages/sklearn/metrics/_classification.py:1318: UndefinedMetricWarning: Recall is ill-defined and being set to 0.0 in labels with no true samples. Use `zero_division` parameter to control this behavior.\n",
            "  _warn_prf(average, modifier, msg_start, len(result))\n"
          ]
        }
      ]
    },
    {
      "cell_type": "markdown",
      "source": [
        "**Naive Bayes Bernoulli**"
      ],
      "metadata": {
        "id": "eaisUc0pOS1p"
      }
    },
    {
      "cell_type": "code",
      "source": [
        "from sklearn.naive_bayes import BernoulliNB\n",
        "\n",
        "# score arrays\n",
        "accuracy_score = []\n",
        "precision_score = []\n",
        "recall_score = []\n",
        "f1_score = []\n",
        "t1 = []\n",
        "#params = {'alpha': [0, 0.001, 0.01, .01, .05, .1, 0.2, 0.5, 0.75, 1, 2.5, 3, 5, 10],\n",
        "#         'binarize': [0, 0.001, 0.01, .01, .05, .1, 0.2, 0.5, 0.75, 1, 2.5, 3, 5, 10],}\n",
        "#bnv = GridSearchCV(estimator=BernoulliNB(), param_grid=params, scoring='accuracy', n_jobs=-1, cv=10)\n",
        "\n",
        "for train_index, test_index in tscv.split(X):\n",
        "  X_train, X_test = X.iloc[train_index], X.iloc[test_index]\n",
        "  y_train, y_test = y.iloc[train_index], y.iloc[test_index]\n",
        "\n",
        "  # create classifier, fit data and predict on test data\n",
        "  t1_start = process_time()\n",
        "  bnv = BernoulliNB(alpha=10, binarize=0.75)\n",
        "  bnv.fit(X_train, y_train)\n",
        "  pred = bnv.predict(X_test)\n",
        "  t1_stop = process_time()\n",
        "\n",
        "  #print(bnv.best_params_)\n",
        "\n",
        "  # metrics append to arrays\n",
        "  accuracy_score.append(metrics.accuracy_score(pred, y_test))\n",
        "  precision_score.append(metrics.precision_score(pred , y_test, average='macro'))\n",
        "  recall_score.append(metrics.recall_score(pred , y_test, average='macro'))\n",
        "  f1_score.append(metrics.f1_score(pred , y_test, average='macro'))\n",
        "  t1.append(t1_stop-t1_start)\n",
        "\n",
        "scoresDf = saveScore(scoresDf, \"NB-B\", sum(accuracy_score) / k, sum(precision_score) / k, sum(recall_score) / k, sum(f1_score) / k, sum(t1) / k)"
      ],
      "metadata": {
        "id": "y0S7XXJnd9cl",
        "colab": {
          "base_uri": "https://localhost:8080/"
        },
        "outputId": "ceeabf29-4e8e-4000-ceb9-8da25f2adeca"
      },
      "execution_count": null,
      "outputs": [
        {
          "output_type": "stream",
          "name": "stderr",
          "text": [
            "/usr/local/lib/python3.7/dist-packages/sklearn/metrics/_classification.py:1318: UndefinedMetricWarning: Recall is ill-defined and being set to 0.0 in labels with no true samples. Use `zero_division` parameter to control this behavior.\n",
            "  _warn_prf(average, modifier, msg_start, len(result))\n",
            "/usr/local/lib/python3.7/dist-packages/sklearn/metrics/_classification.py:1318: UndefinedMetricWarning: Recall is ill-defined and being set to 0.0 in labels with no true samples. Use `zero_division` parameter to control this behavior.\n",
            "  _warn_prf(average, modifier, msg_start, len(result))\n"
          ]
        }
      ]
    },
    {
      "cell_type": "markdown",
      "source": [
        "**SVM Linear**"
      ],
      "metadata": {
        "id": "ag_M6PrOgkGg"
      }
    },
    {
      "cell_type": "code",
      "source": [
        "from sklearn import svm\n",
        "\n",
        "# score arrays\n",
        "accuracy_score = []\n",
        "precision_score = []\n",
        "recall_score = []\n",
        "f1_score = []\n",
        "t1 = []\n",
        "#params = {'C': [0, 0.001, 0.01, .01, .05, .1, 0.2, 0.5,  1, 2.5, 2.75, 3, 4, 7, 8, 9, 10],\n",
        "#        'gamma': [0, 0.001, 0.01, .01, .05, .1, 0.2, 0.5, 1, 2.5, 2.75, 3, 4 , 7, 8, 9, 10],\n",
        "#        'kernel': ['rbf']},\n",
        "\n",
        "#rbf = GridSearchCV(svm.SVC(),params,refit=True,verbose=2)\n",
        "\n",
        "for train_index, test_index in tscv.split(X):\n",
        "  X_train, X_test = X.iloc[train_index], X.iloc[test_index]\n",
        "  y_train, y_test = y.iloc[train_index], y.iloc[test_index]\n",
        "\n",
        "  # create classifier, fit data and predict on test data\n",
        "  t1_start = process_time()\n",
        "  rbf= svm.SVC(kernel='linear', C=6)\n",
        "  rbf.fit(X_train, y_train)\n",
        "  pred = rbf.predict(X_test)\n",
        "  t1_stop = process_time()\n",
        "\n",
        "  # metrics append to arrays\n",
        "  accuracy_score.append(metrics.accuracy_score(pred, y_test))\n",
        "  precision_score.append(metrics.precision_score(pred , y_test, average='macro'))\n",
        "  recall_score.append( metrics.recall_score(pred , y_test, average='macro'))\n",
        "  f1_score.append(metrics.f1_score(pred , y_test, average='macro'))\n",
        "  t1.append(t1_stop-t1_start)\n",
        "\n",
        "scoresDf = saveScore(scoresDf, \"SVM-L\", sum(accuracy_score) / k, sum(precision_score) / k, sum(recall_score) / k, sum(f1_score) / k, sum(t1) / k)"
      ],
      "metadata": {
        "id": "WJFemnmVL2b-"
      },
      "execution_count": null,
      "outputs": []
    },
    {
      "cell_type": "markdown",
      "source": [
        "**SVM RBF**"
      ],
      "metadata": {
        "id": "YDHFEtkFOKUv"
      }
    },
    {
      "cell_type": "code",
      "source": [
        "# score arrays\n",
        "accuracy_score = []\n",
        "precision_score = []\n",
        "recall_score = []\n",
        "f1_score = []\n",
        "t1 = []\n",
        "#params = {'C': [0, 0.001, 0.01, .01, .05, .1, 0.2, 0.5,  1, 2.5, 2.75, 3, 4, 7, 8, 9, 10],\n",
        "#        'gamma': [0, 0.001, 0.01, .01, .05, .1, 0.2, 0.5, 1, 2.5, 2.75, 3, 4 , 7, 8, 9, 10],\n",
        "#        'kernel': ['rbf']},\n",
        "\n",
        "#rbf = GridSearchCV(svm.SVC(),params,refit=True,verbose=2)\n",
        "\n",
        "for train_index, test_index in tscv.split(X):\n",
        "  X_train, X_test = X.iloc[train_index], X.iloc[test_index]\n",
        "  y_train, y_test = y.iloc[train_index], y.iloc[test_index]\n",
        "\n",
        "  # create classifier, fit data and predict on test data\n",
        "  t1_start = process_time()\n",
        "  rbf= svm.SVC(kernel='rbf', gamma=0.001, C=4)\n",
        "  rbf.fit(X_train, y_train)\n",
        "  pred = rbf.predict(X_test)\n",
        "  t1_stop = process_time()\n",
        "\n",
        "  # metrics append to arrays\n",
        "  accuracy_score.append(metrics.accuracy_score(pred, y_test))\n",
        "  precision_score.append(metrics.precision_score(pred , y_test, average='macro'))\n",
        "  recall_score.append( metrics.recall_score(pred , y_test, average='macro'))\n",
        "  f1_score.append(metrics.f1_score(pred , y_test, average='macro'))\n",
        "  t1.append(t1_stop-t1_start)\n",
        "\n",
        "scoresDf = saveScore(scoresDf, \"SVM-RBF\", sum(accuracy_score) / k, sum(precision_score) / k, sum(recall_score) / k, sum(f1_score) / k, sum(t1) / k)"
      ],
      "metadata": {
        "id": "BBl4pIDMgVu4",
        "colab": {
          "base_uri": "https://localhost:8080/"
        },
        "outputId": "52682e6e-94cb-4a39-93c5-7eed54fdd589"
      },
      "execution_count": null,
      "outputs": [
        {
          "output_type": "stream",
          "name": "stderr",
          "text": [
            "/usr/local/lib/python3.7/dist-packages/sklearn/metrics/_classification.py:1318: UndefinedMetricWarning: Recall is ill-defined and being set to 0.0 in labels with no true samples. Use `zero_division` parameter to control this behavior.\n",
            "  _warn_prf(average, modifier, msg_start, len(result))\n",
            "/usr/local/lib/python3.7/dist-packages/sklearn/metrics/_classification.py:1318: UndefinedMetricWarning: Recall is ill-defined and being set to 0.0 in labels with no true samples. Use `zero_division` parameter to control this behavior.\n",
            "  _warn_prf(average, modifier, msg_start, len(result))\n"
          ]
        }
      ]
    },
    {
      "cell_type": "markdown",
      "source": [
        "**SVM Polynomial**"
      ],
      "metadata": {
        "id": "PKSdFzXnOhfr"
      }
    },
    {
      "cell_type": "code",
      "source": [
        "# score arrays\n",
        "accuracy_score = []\n",
        "precision_score = []\n",
        "recall_score = []\n",
        "f1_score = []\n",
        "t1 = []\n",
        "#params = {'C': [.05, .1, 0.2, 0.5, 0.75, 1, 2.5, 2.75, 3, 4, 5, 6, 7, 8, 9, 10],\n",
        "#        'gamma': [.05, .1, 0.2, 0.5, 0.75, 1, 2.5, 2.75, 3, 4, 5, 6, 7, 8, 9, 10],\n",
        "#        'kernel': ['poly']}\n",
        "\n",
        "for train_index, test_index in tscv.split(X):\n",
        "  X_train, X_test = X.iloc[train_index], X.iloc[test_index]\n",
        "  y_train, y_test = y.iloc[train_index], y.iloc[test_index]\n",
        "\n",
        "  # create classifier, fit data and predict on test data\n",
        "  t1_start = process_time()\n",
        "  poly = svm.SVC(kernel='poly', gamma=0.01, C=2, degree=3))\n",
        "  poly.fit(X_train, y_train)\n",
        "  pred = poly.predict(X_test)\n",
        "  t1_stop = process_time()\n",
        "\n",
        "  # metrics append to arrays\n",
        "  accuracy_score.append(metrics.accuracy_score(pred, y_test))\n",
        "  precision_score.append(metrics.precision_score(pred , y_test, average='macro'))\n",
        "  recall_score.append( metrics.recall_score(pred , y_test, average='macro'))\n",
        "  f1_score.append(metrics.f1_score(pred , y_test, average='macro'))\n",
        "  t1.append(t1_stop-t1_start)\n",
        "\n",
        "scoresDf = saveScore(scoresDf, \"SVM-P\", sum(accuracy_score) / k, sum(precision_score) / k, sum(recall_score) / k, sum(f1_score) / k, sum(t1) / k)"
      ],
      "metadata": {
        "id": "6PqnLOvqVPYm",
        "colab": {
          "base_uri": "https://localhost:8080/"
        },
        "outputId": "11f769ea-632d-4586-aec5-4186f26ee1cf"
      },
      "execution_count": null,
      "outputs": [
        {
          "output_type": "stream",
          "name": "stderr",
          "text": [
            "/usr/local/lib/python3.7/dist-packages/sklearn/metrics/_classification.py:1318: UndefinedMetricWarning: Recall is ill-defined and being set to 0.0 in labels with no true samples. Use `zero_division` parameter to control this behavior.\n",
            "  _warn_prf(average, modifier, msg_start, len(result))\n",
            "/usr/local/lib/python3.7/dist-packages/sklearn/metrics/_classification.py:1318: UndefinedMetricWarning: Recall is ill-defined and being set to 0.0 in labels with no true samples. Use `zero_division` parameter to control this behavior.\n",
            "  _warn_prf(average, modifier, msg_start, len(result))\n"
          ]
        }
      ]
    },
    {
      "cell_type": "markdown",
      "source": [
        "**KNN**"
      ],
      "metadata": {
        "id": "Z-OQWzi1C40R"
      }
    },
    {
      "cell_type": "code",
      "source": [
        "from sklearn.neighbors import KNeighborsClassifier\n",
        "\n",
        "# score arrays\n",
        "accuracy_score = []\n",
        "precision_score = []\n",
        "recall_score = []\n",
        "f1_score = []\n",
        "t1 = []\n",
        "\n",
        "for train_index, test_index in tscv.split(X):\n",
        "  X_train, X_test = X.iloc[train_index], X.iloc[test_index]\n",
        "  y_train, y_test = y.iloc[train_index], y.iloc[test_index]\n",
        "\n",
        "  # create classifier, fit data and predict on test data\n",
        "  t1_start = process_time()\n",
        "  knn = KNeighborsClassifier()\n",
        "  knn.fit(X_train, y_train)\n",
        "  pred = knn.predict(X_test)\n",
        "  t1_stop = process_time()\n",
        "\n",
        "  # metrics append to arrays\n",
        "  accuracy_score.append(metrics.accuracy_score(pred, y_test))\n",
        "  precision_score.append(metrics.precision_score(pred , y_test, average='macro'))\n",
        "  recall_score.append( metrics.recall_score(pred , y_test, average='macro'))\n",
        "  f1_score.append(metrics.f1_score(pred , y_test, average='macro'))\n",
        "  t1.append(t1_stop-t1_start)\n",
        "\n",
        "scoresDf = saveScore(scoresDf, \"KNN\", sum(accuracy_score) / k, sum(precision_score) / k, sum(recall_score) / k, sum(f1_score) / k, sum(t1) / k)"
      ],
      "metadata": {
        "id": "dbWN1XHGC52g",
        "colab": {
          "base_uri": "https://localhost:8080/"
        },
        "outputId": "8dac2874-9f44-49e8-bc74-80e4760bef8e"
      },
      "execution_count": null,
      "outputs": [
        {
          "output_type": "stream",
          "name": "stderr",
          "text": [
            "/usr/local/lib/python3.7/dist-packages/sklearn/metrics/_classification.py:1318: UndefinedMetricWarning: Recall is ill-defined and being set to 0.0 in labels with no true samples. Use `zero_division` parameter to control this behavior.\n",
            "  _warn_prf(average, modifier, msg_start, len(result))\n",
            "/usr/local/lib/python3.7/dist-packages/sklearn/metrics/_classification.py:1318: UndefinedMetricWarning: Recall is ill-defined and being set to 0.0 in labels with no true samples. Use `zero_division` parameter to control this behavior.\n",
            "  _warn_prf(average, modifier, msg_start, len(result))\n"
          ]
        }
      ]
    },
    {
      "cell_type": "markdown",
      "source": [
        "## **Scores**"
      ],
      "metadata": {
        "id": "ifF3olcsY3qe"
      }
    },
    {
      "cell_type": "markdown",
      "source": [
        "Confusion Matrix Calculations"
      ],
      "metadata": {
        "id": "06sxQOKKw5xd"
      }
    },
    {
      "cell_type": "code",
      "source": [
        "scoresDf"
      ],
      "metadata": {
        "id": "ZxYdoLkAdLBz",
        "colab": {
          "base_uri": "https://localhost:8080/",
          "height": 269
        },
        "outputId": "f3d57e8a-b8d5-433d-c68b-baf4da142914"
      },
      "execution_count": null,
      "outputs": [
        {
          "output_type": "execute_result",
          "data": {
            "text/plain": [
              "  model_name  accuracy  precision    recall  f1_score         t1\n",
              "0         RF  0.624082   0.581606  0.653251  0.605350   0.258118\n",
              "1       NB-G  0.321586   0.237752  0.171608  0.172449   0.006698\n",
              "2       NB-B  0.467695   0.355136  0.335649  0.321526   0.009078\n",
              "3      SVM-L  0.527166   0.453840  0.424950  0.409497  23.722128\n",
              "4    SVM-RBF  0.486417   0.203045  0.161371  0.179172   0.083488\n",
              "5      SVM-P  0.491189   0.166667  0.122797  0.141237   0.058030\n",
              "6        KNN  0.380690   0.250569  0.215966  0.199091   0.022020"
            ],
            "text/html": [
              "\n",
              "  <div id=\"df-e9821c0f-abde-4c71-9983-f190b25bdaa7\">\n",
              "    <div class=\"colab-df-container\">\n",
              "      <div>\n",
              "<style scoped>\n",
              "    .dataframe tbody tr th:only-of-type {\n",
              "        vertical-align: middle;\n",
              "    }\n",
              "\n",
              "    .dataframe tbody tr th {\n",
              "        vertical-align: top;\n",
              "    }\n",
              "\n",
              "    .dataframe thead th {\n",
              "        text-align: right;\n",
              "    }\n",
              "</style>\n",
              "<table border=\"1\" class=\"dataframe\">\n",
              "  <thead>\n",
              "    <tr style=\"text-align: right;\">\n",
              "      <th></th>\n",
              "      <th>model_name</th>\n",
              "      <th>accuracy</th>\n",
              "      <th>precision</th>\n",
              "      <th>recall</th>\n",
              "      <th>f1_score</th>\n",
              "      <th>t1</th>\n",
              "    </tr>\n",
              "  </thead>\n",
              "  <tbody>\n",
              "    <tr>\n",
              "      <th>0</th>\n",
              "      <td>RF</td>\n",
              "      <td>0.624082</td>\n",
              "      <td>0.581606</td>\n",
              "      <td>0.653251</td>\n",
              "      <td>0.605350</td>\n",
              "      <td>0.258118</td>\n",
              "    </tr>\n",
              "    <tr>\n",
              "      <th>1</th>\n",
              "      <td>NB-G</td>\n",
              "      <td>0.321586</td>\n",
              "      <td>0.237752</td>\n",
              "      <td>0.171608</td>\n",
              "      <td>0.172449</td>\n",
              "      <td>0.006698</td>\n",
              "    </tr>\n",
              "    <tr>\n",
              "      <th>2</th>\n",
              "      <td>NB-B</td>\n",
              "      <td>0.467695</td>\n",
              "      <td>0.355136</td>\n",
              "      <td>0.335649</td>\n",
              "      <td>0.321526</td>\n",
              "      <td>0.009078</td>\n",
              "    </tr>\n",
              "    <tr>\n",
              "      <th>3</th>\n",
              "      <td>SVM-L</td>\n",
              "      <td>0.527166</td>\n",
              "      <td>0.453840</td>\n",
              "      <td>0.424950</td>\n",
              "      <td>0.409497</td>\n",
              "      <td>23.722128</td>\n",
              "    </tr>\n",
              "    <tr>\n",
              "      <th>4</th>\n",
              "      <td>SVM-RBF</td>\n",
              "      <td>0.486417</td>\n",
              "      <td>0.203045</td>\n",
              "      <td>0.161371</td>\n",
              "      <td>0.179172</td>\n",
              "      <td>0.083488</td>\n",
              "    </tr>\n",
              "    <tr>\n",
              "      <th>5</th>\n",
              "      <td>SVM-P</td>\n",
              "      <td>0.491189</td>\n",
              "      <td>0.166667</td>\n",
              "      <td>0.122797</td>\n",
              "      <td>0.141237</td>\n",
              "      <td>0.058030</td>\n",
              "    </tr>\n",
              "    <tr>\n",
              "      <th>6</th>\n",
              "      <td>KNN</td>\n",
              "      <td>0.380690</td>\n",
              "      <td>0.250569</td>\n",
              "      <td>0.215966</td>\n",
              "      <td>0.199091</td>\n",
              "      <td>0.022020</td>\n",
              "    </tr>\n",
              "  </tbody>\n",
              "</table>\n",
              "</div>\n",
              "      <button class=\"colab-df-convert\" onclick=\"convertToInteractive('df-e9821c0f-abde-4c71-9983-f190b25bdaa7')\"\n",
              "              title=\"Convert this dataframe to an interactive table.\"\n",
              "              style=\"display:none;\">\n",
              "        \n",
              "  <svg xmlns=\"http://www.w3.org/2000/svg\" height=\"24px\"viewBox=\"0 0 24 24\"\n",
              "       width=\"24px\">\n",
              "    <path d=\"M0 0h24v24H0V0z\" fill=\"none\"/>\n",
              "    <path d=\"M18.56 5.44l.94 2.06.94-2.06 2.06-.94-2.06-.94-.94-2.06-.94 2.06-2.06.94zm-11 1L8.5 8.5l.94-2.06 2.06-.94-2.06-.94L8.5 2.5l-.94 2.06-2.06.94zm10 10l.94 2.06.94-2.06 2.06-.94-2.06-.94-.94-2.06-.94 2.06-2.06.94z\"/><path d=\"M17.41 7.96l-1.37-1.37c-.4-.4-.92-.59-1.43-.59-.52 0-1.04.2-1.43.59L10.3 9.45l-7.72 7.72c-.78.78-.78 2.05 0 2.83L4 21.41c.39.39.9.59 1.41.59.51 0 1.02-.2 1.41-.59l7.78-7.78 2.81-2.81c.8-.78.8-2.07 0-2.86zM5.41 20L4 18.59l7.72-7.72 1.47 1.35L5.41 20z\"/>\n",
              "  </svg>\n",
              "      </button>\n",
              "      \n",
              "  <style>\n",
              "    .colab-df-container {\n",
              "      display:flex;\n",
              "      flex-wrap:wrap;\n",
              "      gap: 12px;\n",
              "    }\n",
              "\n",
              "    .colab-df-convert {\n",
              "      background-color: #E8F0FE;\n",
              "      border: none;\n",
              "      border-radius: 50%;\n",
              "      cursor: pointer;\n",
              "      display: none;\n",
              "      fill: #1967D2;\n",
              "      height: 32px;\n",
              "      padding: 0 0 0 0;\n",
              "      width: 32px;\n",
              "    }\n",
              "\n",
              "    .colab-df-convert:hover {\n",
              "      background-color: #E2EBFA;\n",
              "      box-shadow: 0px 1px 2px rgba(60, 64, 67, 0.3), 0px 1px 3px 1px rgba(60, 64, 67, 0.15);\n",
              "      fill: #174EA6;\n",
              "    }\n",
              "\n",
              "    [theme=dark] .colab-df-convert {\n",
              "      background-color: #3B4455;\n",
              "      fill: #D2E3FC;\n",
              "    }\n",
              "\n",
              "    [theme=dark] .colab-df-convert:hover {\n",
              "      background-color: #434B5C;\n",
              "      box-shadow: 0px 1px 3px 1px rgba(0, 0, 0, 0.15);\n",
              "      filter: drop-shadow(0px 1px 2px rgba(0, 0, 0, 0.3));\n",
              "      fill: #FFFFFF;\n",
              "    }\n",
              "  </style>\n",
              "\n",
              "      <script>\n",
              "        const buttonEl =\n",
              "          document.querySelector('#df-e9821c0f-abde-4c71-9983-f190b25bdaa7 button.colab-df-convert');\n",
              "        buttonEl.style.display =\n",
              "          google.colab.kernel.accessAllowed ? 'block' : 'none';\n",
              "\n",
              "        async function convertToInteractive(key) {\n",
              "          const element = document.querySelector('#df-e9821c0f-abde-4c71-9983-f190b25bdaa7');\n",
              "          const dataTable =\n",
              "            await google.colab.kernel.invokeFunction('convertToInteractive',\n",
              "                                                     [key], {});\n",
              "          if (!dataTable) return;\n",
              "\n",
              "          const docLinkHtml = 'Like what you see? Visit the ' +\n",
              "            '<a target=\"_blank\" href=https://colab.research.google.com/notebooks/data_table.ipynb>data table notebook</a>'\n",
              "            + ' to learn more about interactive tables.';\n",
              "          element.innerHTML = '';\n",
              "          dataTable['output_type'] = 'display_data';\n",
              "          await google.colab.output.renderOutput(dataTable, element);\n",
              "          const docLink = document.createElement('div');\n",
              "          docLink.innerHTML = docLinkHtml;\n",
              "          element.appendChild(docLink);\n",
              "        }\n",
              "      </script>\n",
              "    </div>\n",
              "  </div>\n",
              "  "
            ]
          },
          "metadata": {},
          "execution_count": 34
        }
      ]
    },
    {
      "cell_type": "code",
      "source": [
        "plt.style.use('ggplot')\n",
        "scoresDf = scoresDf.sort_values('accuracy')\n",
        "\n",
        "plt.bar(scoresDf['model_name'], scoresDf['accuracy'], color='firebrick')\n",
        "plt.xlabel(\"Model Name\")\n",
        "plt.ylabel(\"Accuracy Score\")\n",
        "plt.title(\"Accuracy of ML Models\")\n",
        "plt.setp(plt.gca().get_xticklabels(), rotation=45, horizontalalignment='right')\n",
        "plt.show()"
      ],
      "metadata": {
        "colab": {
          "base_uri": "https://localhost:8080/",
          "height": 328
        },
        "id": "q3Qnpt90xw_1",
        "outputId": "4b86429a-f709-4f86-b47a-00c796250cf9"
      },
      "execution_count": null,
      "outputs": [
        {
          "output_type": "display_data",
          "data": {
            "text/plain": [
              "<Figure size 432x288 with 1 Axes>"
            ],
            "image/png": "[encoded data removed]"
          },
          "metadata": {}
        }
      ]
    },
    {
      "cell_type": "code",
      "source": [
        "plt.style.use('ggplot')\n",
        "scoresDf = scoresDf.sort_values('precision')\n",
        "\n",
        "plt.bar(scoresDf['model_name'], scoresDf['precision'], color='green')\n",
        "plt.xlabel(\"Model Name\")\n",
        "plt.ylabel(\"Precision Score\")\n",
        "plt.title(\"Precision of ML Models\")\n",
        "plt.setp(plt.gca().get_xticklabels(), rotation=45, horizontalalignment='right')\n",
        "plt.show()"
      ],
      "metadata": {
        "id": "7wl5HSZsoKYh",
        "colab": {
          "base_uri": "https://localhost:8080/",
          "height": 328
        },
        "outputId": "4e2d199a-cf45-4956-fed6-fe73bf0ef71d"
      },
      "execution_count": null,
      "outputs": [
        {
          "output_type": "display_data",
          "data": {
            "text/plain": [
              "<Figure size 432x288 with 1 Axes>"
            ],
            "image/png": "[encoded data removed]"
          },
          "metadata": {}
        }
      ]
    },
    {
      "cell_type": "code",
      "source": [
        "plt.style.use('ggplot')\n",
        "scoresDf = scoresDf.sort_values('recall')\n",
        "\n",
        "plt.bar(scoresDf['model_name'], scoresDf['recall'], color='royalblue')\n",
        "plt.xlabel(\"Model Name\")\n",
        "plt.ylabel(\"Recall Score\")\n",
        "plt.title(\"Recall of ML Models\")\n",
        "plt.setp(plt.gca().get_xticklabels(), rotation=45, horizontalalignment='right')\n",
        "plt.show()"
      ],
      "metadata": {
        "id": "TYjmcEgWpNKL",
        "colab": {
          "base_uri": "https://localhost:8080/",
          "height": 328
        },
        "outputId": "e22353dd-d589-4ccd-8090-67b106a77c6a"
      },
      "execution_count": null,
      "outputs": [
        {
          "output_type": "display_data",
          "data": {
            "text/plain": [
              "<Figure size 432x288 with 1 Axes>"
            ],
            "image/png": "[encoded data removed]"
          },
          "metadata": {}
        }
      ]
    },
    {
      "cell_type": "code",
      "source": [
        "plt.style.use('ggplot')\n",
        "scoresDf = scoresDf.sort_values('f1_score')\n",
        "\n",
        "plt.bar(scoresDf['model_name'], scoresDf['f1_score'], color='violet')\n",
        "plt.xlabel(\"Model Name\")\n",
        "plt.ylabel(\"F1 Score\")\n",
        "plt.title(\"F1 Score of ML Models\")\n",
        "plt.setp(plt.gca().get_xticklabels(), rotation=45, horizontalalignment='right')\n",
        "plt.show()"
      ],
      "metadata": {
        "id": "teXaROteMl6A",
        "colab": {
          "base_uri": "https://localhost:8080/",
          "height": 328
        },
        "outputId": "b8703d63-77b8-40bb-881c-f855583804c0"
      },
      "execution_count": null,
      "outputs": [
        {
          "output_type": "display_data",
          "data": {
            "text/plain": [
              "<Figure size 432x288 with 1 Axes>"
            ],
            "image/png": "[encoded data removed]"
          },
          "metadata": {}
        }
      ]
    },
    {
      "cell_type": "code",
      "source": [
        "plt.style.use('ggplot')\n",
        "scoresDf = scoresDf.sort_values('t1')\n",
        "t = scoresDf['t1']*100\n",
        "plt.bar(scoresDf['model_name'], t, color='orange')\n",
        "plt.xlabel(\"Model Name\")\n",
        "plt.ylabel(\"Time (milliseconds)\")\n",
        "plt.title(\"Time Elasped for ML Models\")\n",
        "plt.setp(plt.gca().get_xticklabels(), rotation=45, horizontalalignment='right')\n",
        "plt.show()"
      ],
      "metadata": {
        "id": "ATxFyPi6Osl9"
      },
      "execution_count": null,
      "outputs": []
    }
  ]
}